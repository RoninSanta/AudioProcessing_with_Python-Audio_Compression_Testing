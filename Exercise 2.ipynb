{
 "cells": [
  {
   "cell_type": "markdown",
   "metadata": {},
   "source": [
    "<h2>Rice Coding Compression<h2/>"
   ]
  },
  {
   "cell_type": "markdown",
   "metadata": {},
   "source": [
    "<p>We need to be certain modules for the application is functioning especially for the wav/byte/bit manipulation.</p>"
   ]
  },
  {
   "cell_type": "code",
   "execution_count": 3,
   "metadata": {},
   "outputs": [
    {
     "name": "stdout",
     "output_type": "stream",
     "text": [
      "Collecting bitstring\n",
      "  Downloading bitstring-4.0.1-py3-none-any.whl (45 kB)\n",
      "\u001b[K     |████████████████████████████████| 45 kB 14.9 MB/s eta 0:00:01\n",
      "\u001b[?25hInstalling collected packages: bitstring\n",
      "Successfully installed bitstring-4.0.1\n",
      "\u001b[33mWARNING: You are using pip version 21.1.2; however, version 23.0.1 is available.\n",
      "You should consider upgrading via the '/opt/conda/bin/python3 -m pip install --upgrade pip' command.\u001b[0m\n"
     ]
    }
   ],
   "source": [
    "!pip install bitstring\n",
    "\n",
    "import math\n",
    "import wave\n",
    "\n",
    "from bitstring import BitStream, BitArray"
   ]
  },
  {
   "cell_type": "markdown",
   "metadata": {},
   "source": [
    "<h3>Encode</h3>"
   ]
  },
  {
   "cell_type": "code",
   "execution_count": 4,
   "metadata": {},
   "outputs": [],
   "source": [
    "# Unary function for encoding\n",
    "def unary(t):\n",
    "    y=[];\n",
    "    for i in range(t):\n",
    "        y.append('1')\n",
    "    y.append('0')\n",
    "    return ''.join(y)\n",
    "\n",
    "# Rice encoding algorithm slice\n",
    "def r_enc(S, K):\n",
    "\n",
    "    # find M\n",
    "    M = 2 ** K\n",
    "\n",
    "    # For S to be encoded, find:\n",
    "    # Quotient q = int(S/M)\n",
    "    q = int(S//M)\n",
    "\n",
    "    # Remainder r = SmoduloM\n",
    "    r = S%M\n",
    "    \n",
    "    # Quotient code is q in unary\n",
    "    q_un = unary(q)\n",
    "\n",
    "    # Remainder code is r in binary using K bits\n",
    "    # Function to return x in n-bit binary\n",
    "    getbinary = lambda x, n: format(x, 'b').zfill(n)\n",
    "    r_bin = getbinary(r, K)\n",
    "\n",
    "    # Codeword format <quotient code><remainder code>\n",
    "    codeword = q_un + r_bin\n",
    "    \n",
    "    return codeword"
   ]
  },
  {
   "cell_type": "markdown",
   "metadata": {},
   "source": [
    "<p>This reads our wav file and returns a byte object</p>"
   ]
  },
  {
   "cell_type": "code",
   "execution_count": 14,
   "metadata": {},
   "outputs": [],
   "source": [
    "# Getting binary data from the wav file \n",
    "w = wave.open('Ex2_files/Sound1.wav', 'rb')\n",
    "byte_data = w.readframes(w.getnframes())\n",
    "w.close()"
   ]
  },
  {
   "cell_type": "markdown",
   "metadata": {},
   "source": [
    "<p>We parse this byte object and encoding each byte into bits as per the rice coding algorithm. The results are being stored as a list bit each a result of r_enc</p>"
   ]
  },
  {
   "cell_type": "code",
   "execution_count": 15,
   "metadata": {},
   "outputs": [],
   "source": [
    "# Bytes to bitstrings\n",
    "bits = []\n",
    "for byte in byte_data:\n",
    "    bits.append(r_enc(byte, 4))"
   ]
  },
  {
   "cell_type": "markdown",
   "metadata": {},
   "source": [
    "<p>We create an ex2 file to store our bits. We use the join method to store one large bit string separated by a space so we can split it later for decoding</p>"
   ]
  },
  {
   "cell_type": "code",
   "execution_count": 16,
   "metadata": {},
   "outputs": [],
   "source": [
    "# Encode and write to ex2 file\n",
    "with open(\"Ex2_files/Sound1_Enc.ex2\", \"w\") as f:\n",
    "    # Writing data to a file\n",
    "    f.write(' '.join(bits))"
   ]
  },
  {
   "cell_type": "markdown",
   "metadata": {},
   "source": [
    "<p>Encoding of the wav file and saving it</p>"
   ]
  },
  {
   "cell_type": "markdown",
   "metadata": {},
   "source": [
    "<h3>Decoding</h3>"
   ]
  },
  {
   "cell_type": "markdown",
   "metadata": {},
   "source": [
    "<p>Decodeing is done here using the rice algorithm.</p>"
   ]
  },
  {
   "cell_type": "code",
   "execution_count": 11,
   "metadata": {},
   "outputs": [],
   "source": [
    "# Rice decoding algorithm snippet\n",
    "def r_dec(codeword, K):\n",
    "    cdw = list(codeword)\n",
    "    \n",
    "    # q by counting 1's before first 0\n",
    "    q = 0\n",
    "    \n",
    "    for i in cdw:\n",
    "        if i == '1':\n",
    "            q += 1\n",
    "        else:\n",
    "            break\n",
    "    \n",
    "    # r reading next K bits as binary value\n",
    "    r = ''.join(cdw[q:])\n",
    "    r_int = int(r, 2)\n",
    "    \n",
    "    M = 2 ** K\n",
    "    \n",
    "    # S, encoded number, as q x M + r\n",
    "    S = q * M + r_int\n",
    "    \n",
    "    return S"
   ]
  },
  {
   "cell_type": "markdown",
   "metadata": {},
   "source": [
    "<p>Parsing the ex2 file using the split method and append each bit block to an array</p>"
   ]
  },
  {
   "cell_type": "code",
   "execution_count": 13,
   "metadata": {},
   "outputs": [],
   "source": [
    "bitsagain = []\n",
    "    \n",
    "with open(\"Ex2_files/Sound1_Enc.ex2\", \"r\") as fd:\n",
    "    bitsagain = fd.read().split(' ')"
   ]
  },
  {
   "cell_type": "markdown",
   "metadata": {},
   "source": [
    "<p>Decode_blocklist takes this array and a K value for the rice algorithm and returns a list of our original bytes</p>"
   ]
  },
  {
   "cell_type": "code",
   "execution_count": 17,
   "metadata": {},
   "outputs": [],
   "source": [
    "def decode_blocklist(blocklist, K):\n",
    "    nums = []\n",
    "        \n",
    "    for block in blocklist:\n",
    "        nums.append(r_dec(block, K))\n",
    "\n",
    "    return nums"
   ]
  },
  {
   "cell_type": "markdown",
   "metadata": {},
   "source": [
    "<p>Store our decoded list as a variable for usage later on</p>"
   ]
  },
  {
   "cell_type": "code",
   "execution_count": 18,
   "metadata": {},
   "outputs": [],
   "source": [
    "# Decoded list of integers from bitstring\n",
    "decbits = decode_blocklist(bitsagain, 4)"
   ]
  },
  {
   "cell_type": "markdown",
   "metadata": {},
   "source": [
    "<p>Conversion of this list back to a bytes object of which we check if it is true.</p>"
   ]
  },
  {
   "cell_type": "code",
   "execution_count": 19,
   "metadata": {},
   "outputs": [
    {
     "data": {
      "text/plain": [
       "bytes"
      ]
     },
     "execution_count": 19,
     "metadata": {},
     "output_type": "execute_result"
    }
   ],
   "source": [
    "# conversion of int list to bytes\n",
    "bytesagain = bytes(decbits)\n",
    "type(bytesagain)"
   ]
  },
  {
   "cell_type": "markdown",
   "metadata": {},
   "source": [
    "<p>Confirmation on the equivalence of the original bytes object from our wav file to the output of the r_dec -> bytes() process</p>"
   ]
  },
  {
   "cell_type": "code",
   "execution_count": 20,
   "metadata": {
    "scrolled": true
   },
   "outputs": [
    {
     "data": {
      "text/plain": [
       "True"
      ]
     },
     "execution_count": 20,
     "metadata": {},
     "output_type": "execute_result"
    }
   ],
   "source": [
    "# Equivalency check of files\n",
    "bytesagain == byte_data"
   ]
  },
  {
   "cell_type": "markdown",
   "metadata": {},
   "source": [
    "<p>We then write the result back to a wav file tagged with 'Dec'.</p>"
   ]
  },
  {
   "cell_type": "code",
   "execution_count": 21,
   "metadata": {},
   "outputs": [],
   "source": [
    "with open('Ex2_files/Sound1_Enc_Dec.wav', mode='bx') as f:\n",
    "    f.write(bytesagain)"
   ]
  },
  {
   "cell_type": "markdown",
   "metadata": {},
   "source": [
    "<p>Observing both wav files in the directory they are both identical in size.</p>"
   ]
  },
  {
   "cell_type": "markdown",
   "metadata": {},
   "source": [
    "<h3>Finding the Optimal K</h3>"
   ]
  },
  {
   "cell_type": "markdown",
   "metadata": {},
   "source": [
    "<p>We try to find the optimal K here</p>"
   ]
  },
  {
   "cell_type": "markdown",
   "metadata": {},
   "source": [
    "<p>We see K = 7 can represent 255 in  bits, and 1 in 8. Let us select 10 as our K.</p>"
   ]
  },
  {
   "cell_type": "code",
   "execution_count": 22,
   "metadata": {},
   "outputs": [
    {
     "data": {
      "text/plain": [
       "11"
      ]
     },
     "execution_count": 22,
     "metadata": {},
     "output_type": "execute_result"
    }
   ],
   "source": [
    "len(r_enc(255, 10))"
   ]
  },
  {
   "cell_type": "code",
   "execution_count": 23,
   "metadata": {},
   "outputs": [
    {
     "data": {
      "text/plain": [
       "11"
      ]
     },
     "execution_count": 23,
     "metadata": {},
     "output_type": "execute_result"
    }
   ],
   "source": [
    "len(r_enc(1, 10))"
   ]
  },
  {
   "cell_type": "markdown",
   "metadata": {},
   "source": [
    "<p>Open our Sound2.wav file as a byte object for compressing.</p>"
   ]
  },
  {
   "cell_type": "code",
   "execution_count": 25,
   "metadata": {},
   "outputs": [],
   "source": [
    "# getting binary data from wav file \n",
    "w = wave.open('Ex2_files/Sound2.wav', 'rb')\n",
    "byte_data2 = w.readframes(w.getnframes())\n",
    "w.close()"
   ]
  },
  {
   "cell_type": "markdown",
   "metadata": {},
   "source": [
    "<p>Convert our Sound1.wav bytes using r_enc.</p>"
   ]
  },
  {
   "cell_type": "code",
   "execution_count": 27,
   "metadata": {},
   "outputs": [],
   "source": [
    "# bytes to bitstrings\n",
    "bits2 = []\n",
    "for byte in byte_data:\n",
    "    bits2.append(r_enc(byte, 10))"
   ]
  },
  {
   "cell_type": "markdown",
   "metadata": {},
   "source": [
    "<p>Convert our Sound2.wav bytes using r_enc.</p>"
   ]
  },
  {
   "cell_type": "code",
   "execution_count": 28,
   "metadata": {},
   "outputs": [],
   "source": [
    "# bytes to bitstrings\n",
    "bits3 = []\n",
    "for byte in byte_data2:\n",
    "    bits3.append(r_enc(byte, 10))"
   ]
  },
  {
   "cell_type": "markdown",
   "metadata": {},
   "source": [
    "<p>Write results of Sound1.wav encode to file.</p>"
   ]
  },
  {
   "cell_type": "code",
   "execution_count": 30,
   "metadata": {},
   "outputs": [],
   "source": [
    "# Encode and write to ex2 file\n",
    "with open(\"Ex2_files/Sound1_K7_Enc.ex2\", \"w\") as f:\n",
    "    # Writing data to a file\n",
    "    f.write(' '.join(bits2))"
   ]
  },
  {
   "cell_type": "markdown",
   "metadata": {},
   "source": [
    "<p>Write results of Sound2.wav encode to file.</p>"
   ]
  },
  {
   "cell_type": "code",
   "execution_count": 33,
   "metadata": {},
   "outputs": [],
   "source": [
    "# Encode and write to ex2 file\n",
    "with open(\"Ex2_files/Sound2_K7_Enc.ex2\", \"w\") as f:\n",
    "    # Writing data to a file\n",
    "    f.write(' '.join(bits3))"
   ]
  },
  {
   "cell_type": "markdown",
   "metadata": {},
   "source": [
    "<p>The compression results will be documented in the report</p>"
   ]
  }
 ],
 "metadata": {
  "kernelspec": {
   "display_name": "Python 3",
   "language": "python",
   "name": "python3"
  },
  "language_info": {
   "codemirror_mode": {
    "name": "ipython",
    "version": 3
   },
   "file_extension": ".py",
   "mimetype": "text/x-python",
   "name": "python",
   "nbconvert_exporter": "python",
   "pygments_lexer": "ipython3",
   "version": "3.7.6"
  }
 },
 "nbformat": 4,
 "nbformat_minor": 4
}
